{
 "cells": [
  {
   "cell_type": "markdown",
   "metadata": {
    "slideshow": {
     "slide_type": "subslide"
    }
   },
   "source": [
    "### Statistiken zum Oktoberfest (Wiesn).\n",
    "\n",
    "Das Oktoberfest in München (mundartlich Wiesn) ist das größte Volksfest der Welt. Es findet seit 1810 auf der Theresienwiese in der bayerischen Landeshauptstadt München statt und wird Jahr für Jahr von rund sechs Millionen Menschen besucht.\n",
    "\n",
    "Alle 4 Jahre (bis 1996 alle 3 Jahre) findet zusätzlich das Bayerische Zentral-Landwirtschaftsfest statt: 1987, 1990, 1993, 1996, 2000, 2004, 2008, 2012, 2016,2020. Dies führt zu einer Einschränkung des Platzangebotes."
   ]
  },
  {
   "cell_type": "code",
   "execution_count": null,
   "metadata": {},
   "outputs": [],
   "source": [
    "import pandas as pd\n",
    "# brauchen wir später zum plotten\n",
    "%pylab inline \n",
    "\n",
    "#CSV-Datei einlesen\n",
    "OF_df = pd.XXX('oktoberfestgesamt19852017.csv')\n",
    "\n",
    "OF_df"
   ]
  },
  {
   "cell_type": "markdown",
   "metadata": {
    "slideshow": {
     "slide_type": "subslide"
    }
   },
   "source": [
    "## Legende zu Dataframe\n",
    "\n",
    "\n",
    "Der Datensatz Oktoberfest umfasst derzeit die jährlichen Zahlen zu Dauer des Oktoberfestes, Besucherzahlen gesamt, Besucherzahlen täglich, Bierpreise, Bierkonsum, Brathähnchenpreise, Brathähnchenkonsum.\n",
    "\n",
    "jahr<br>\n",
    "dauer<br>\n",
    "besucher_gesamt (in Millionen)<br>\n",
    "besucher_tag (in 1000)<br>\n",
    "bier_preis (1 Liter)<br>\n",
    "bier_konsum (in Hektoliter)<br>\n",
    "hendl_preis<br>\n",
    "hendl_konsum"
   ]
  },
  {
   "cell_type": "markdown",
   "metadata": {
    "slideshow": {
     "slide_type": "subslide"
    }
   },
   "source": [
    "## Thema 1: Ein paar Mikro-Tasks"
   ]
  },
  {
   "cell_type": "code",
   "execution_count": null,
   "metadata": {},
   "outputs": [],
   "source": [
    "# Umbenennung der Spalten \"hendl_preis\" und \"hendl_konsum\" in \"hähnchen_preis\" und \"hähnchen_konsum\".\n",
    "\n",
    "OF_df = OF_df.XXX(XXX={'XXX':'XXX', 'XXX': 'XXX'})\n",
    "OF_df"
   ]
  },
  {
   "cell_type": "code",
   "execution_count": null,
   "metadata": {},
   "outputs": [],
   "source": [
    "# max, min, mean, sum, count von 'besucher_gesamt' ausgeben.\n",
    "\n",
    "print('Maximun:', OF_df['besucher_gesamt'].XXX())\n",
    "print('Minimun:', OF_df['besucher_gesamt'].XXX())\n",
    "print('Mean:', OF_df['besucher_gesamt'].XXX())\n",
    "print('Summe:', OF_df['besucher_gesamt'].XXX())\n",
    "print('Count:', OF_df['besucher_gesamt'].XXX())\n",
    "\n"
   ]
  },
  {
   "cell_type": "code",
   "execution_count": null,
   "metadata": {},
   "outputs": [],
   "source": [
    "# unseren Dataframe nach 'hähnchen_konsum' aufsteigend gruppieren\n",
    "\n",
    "grouped = OF_df.XXX('XXX').mean().reset_index()\n",
    "grouped.sort_values('hähnchen_konsum')"
   ]
  },
  {
   "cell_type": "markdown",
   "metadata": {},
   "source": [
    "## Thema 2: Werte in Spalten umwandeln; neue Zeilen einfügen\n",
    "\n",
    "Erinnerung:\n",
    "\n",
    "jahr<br>\n",
    "dauer<br>\n",
    "besucher_gesamt (in Millionen)<br>\n",
    "besucher_tag (in 1000)<br>\n",
    "bier_preis (1 Liter)<br>\n",
    "bier_konsum (in Hektoliter)<br>\n",
    "hendl_preis<br>\n",
    "hendl_konsum<br>\n",
    "\n",
    "### Die Werte der Spalten 'besucher_gesamt', 'besucher_tag' und 'bier_konsum' in absolute Zahlen umwandeln"
   ]
  },
  {
   "cell_type": "code",
   "execution_count": null,
   "metadata": {},
   "outputs": [],
   "source": [
    "#OF_df.dtypes"
   ]
  },
  {
   "cell_type": "code",
   "execution_count": null,
   "metadata": {},
   "outputs": [],
   "source": [
    "\n",
    "## Spalte 'besucher_gesamt' mit 1 000 000 multiplizieren\n",
    "OF_df['besucher_gesamt'] XXX\n",
    "\n",
    "\n",
    "##OF_df[\"besucher_gesamt\"] = OF_df['besucher_gesamt'].astype('int') //Problem bei Typumwandlung??!\n",
    "OF_df['besucher_gesamt'].astype('int')\n",
    "OF_df"
   ]
  },
  {
   "cell_type": "code",
   "execution_count": null,
   "metadata": {},
   "outputs": [],
   "source": [
    "# selbiges mit 'besucher_tag'\n",
    "\n",
    "XXX\n",
    "OF_df"
   ]
  },
  {
   "cell_type": "code",
   "execution_count": null,
   "metadata": {},
   "outputs": [],
   "source": [
    "# fehlt noch der Bierkonsum. Wie rechnet man nochmal Hektoliter in Liter um?\n",
    "\n",
    "XXX\n",
    "OF_df"
   ]
  },
  {
   "cell_type": "code",
   "execution_count": null,
   "metadata": {},
   "outputs": [],
   "source": [
    "#Daten für 2018 einsetzen\n",
    "#Welche Funktion wird benötigt?\n",
    "\n",
    "\n",
    "modOF_df = OF_df.XXX({'jahr' : 2018, 'dauer': 18}, ignore_index=True)\n",
    "modOF_df"
   ]
  },
  {
   "cell_type": "code",
   "execution_count": null,
   "metadata": {},
   "outputs": [],
   "source": [
    "#Wir haben Zeilen, die nicht vollständing befüllt sind. Diese sollen angezeigt werden.\n",
    "\n",
    "modOF_df[modOF_df['besucher_gesamt'].XXX].head(5)"
   ]
  },
  {
   "cell_type": "markdown",
   "metadata": {
    "slideshow": {
     "slide_type": "slide"
    }
   },
   "source": [
    "## Thema 3: Plotten\n",
    "\n"
   ]
  },
  {
   "cell_type": "code",
   "execution_count": null,
   "metadata": {},
   "outputs": [],
   "source": [
    "# Den Bierkonsum über die Jahre grafisch als Säulendiagramm darstellen.\n",
    "# 'set_xticklables'-Methode notwendig, da sonst die Indexe statt Jahreszahlen verwendet werden.\n",
    "\n",
    "\n",
    "OF_df['XXX'].XXX(x='jahr', kind=\"bar\").XXX\n",
    "plt.XXX()"
   ]
  },
  {
   "cell_type": "code",
   "execution_count": null,
   "metadata": {},
   "outputs": [],
   "source": [
    "#Wie hat sich der Gesamtwert des ausgeschenkten Bieres entwickelt?\n",
    "\n",
    "\n",
    "\n",
    "\n",
    "#zuerst eine neue Spalte in unserem Dataframe erstellen, der diesen Gesamtwert darstellt.\n",
    "OF_df['bier_gesamtwert'] = OF_df['XXX'] XXXRechensymbolXXX OF_df['XXX']\n",
    "\n",
    "\n",
    "\n",
    "\n",
    "\n",
    "#plotten(bier_gesamtwert)\n",
    "OF_df['bier_gesamtwert'].XXX(x='jahr', y='bier_gesamtwert', kind=\"bar\",\n",
    "title= '                                                           Entwicklung des jährlichen Gesamtpreises des ausgeschenkten Bieres (in 10 Mio. Euro)').XXX\n",
    "plt.XXX()\n",
    "\n"
   ]
  },
  {
   "cell_type": "code",
   "execution_count": null,
   "metadata": {},
   "outputs": [],
   "source": [
    "## Hat der einzelne Besucher seinen Bierkonsum in den vergangenen Jahren erhöht?\n",
    "\n",
    "# Wieder neue Spalte erstellen\n",
    "OF_df['bier_pro_besucher'] = OF_df['XXX'] XXXRechensymbolXXX OF_df['XXX']\n",
    "\n",
    "\n",
    "#plotten\n",
    "OF_df['bier_pro_besucher'].XXX(x='jahr', y='bier_pro_besucher', kind=\"bar\",\n",
    "title= '                         Anzahl Maß Bier, die jeder Besucher (pro Tag) pro Jahr trinkt').XXX\n",
    "plt.XXX()"
   ]
  },
  {
   "cell_type": "code",
   "execution_count": null,
   "metadata": {},
   "outputs": [],
   "source": []
  }
 ],
 "metadata": {
  "celltoolbar": "Slideshow",
  "kernelspec": {
   "display_name": "Python 3",
   "language": "python",
   "name": "python3"
  },
  "language_info": {
   "codemirror_mode": {
    "name": "ipython",
    "version": 3
   },
   "file_extension": ".py",
   "mimetype": "text/x-python",
   "name": "python",
   "nbconvert_exporter": "python",
   "pygments_lexer": "ipython3",
   "version": "3.7.1"
  }
 },
 "nbformat": 4,
 "nbformat_minor": 2
}
